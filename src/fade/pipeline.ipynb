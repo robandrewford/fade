{
 "cells": [
  {
   "cell_type": "code",
   "execution_count": null,
   "metadata": {},
   "outputs": [],
   "source": [
    "%cd /Users/robertford/Repos/fade\n",
    "!source .venv/bin/activate\n",
    "%uv pip install -e .\n",
    "# %uv pip install matplotlib scikit-image notebook numpy pandas pillow scipy tqdm ipykernel jupyter paddlepaddle\n"
   ]
  },
  {
   "cell_type": "code",
   "execution_count": null,
   "metadata": {},
   "outputs": [],
   "source": [
    "# Test cell to verify installations\n",
    "import sys\n",
    "print(f\"Python version: {sys.version}\")\n",
    "\n",
    "# Test core dependencies\n",
    "try:\n",
    "    import matplotlib\n",
    "    print(f\"matplotlib version: {matplotlib.__version__}\")\n",
    "except ImportError as e:\n",
    "    print(f\"matplotlib import error: {e}\")\n",
    "\n",
    "try:\n",
    "    import numpy\n",
    "    print(f\"numpy version: {numpy.__version__}\")\n",
    "except ImportError as e:\n",
    "    print(f\"numpy import error: {e}\")\n",
    "\n",
    "try:\n",
    "    import pandas\n",
    "    print(f\"pandas version: {pandas.__version__}\")\n",
    "except ImportError as e:\n",
    "    print(f\"pandas import error: {e}\")\n",
    "\n",
    "try:\n",
    "    import PIL\n",
    "    print(f\"Pillow version: {PIL.__version__}\")\n",
    "except ImportError as e:\n",
    "    print(f\"Pillow import error: {e}\")\n",
    "\n",
    "try:\n",
    "    import skimage\n",
    "    print(f\"scikit-image version: {skimage.__version__}\")\n",
    "except ImportError as e:\n",
    "    print(f\"scikit-image import error: {e}\")\n",
    "\n",
    "try:\n",
    "    import scipy\n",
    "    print(f\"scipy version: {scipy.__version__}\")\n",
    "except ImportError as e:\n",
    "    print(f\"scipy import error: {e}\")\n",
    "\n",
    "try:\n",
    "    import paddle\n",
    "    print(f\"paddle version: {paddle.__version__}\")\n",
    "except ImportError as e:\n",
    "    print(f\"paddle import error: {e}\")\n",
    "\n",
    "# Test FADE package\n",
    "try:\n",
    "    from fade.pipeline import PipelineState\n",
    "    print(\"FADE package imported successfully\")\n",
    "except ImportError as e:\n",
    "    print(f\"FADE package import error: {e}\")"
   ]
  },
  {
   "cell_type": "code",
   "execution_count": 10,
   "metadata": {},
   "outputs": [
    {
     "name": "stdout",
     "output_type": "stream",
     "text": [
      "PDF path: /Users/robertford/Repos/fade/data/510k_eSTAR.pdf\n",
      "File exists: False\n"
     ]
    }
   ],
   "source": [
    "# Test the pipeline with a sample document\n",
    "from fade.pipeline import (\n",
    "    PipelineState,\n",
    "    setup_working_directory,\n",
    "    extract_document_pages,\n",
    "    detect_entities,\n",
    "    classify_entities,\n",
    "    report_unclassified_entities,\n",
    "    process_entities,\n",
    "    log_process\n",
    ")\n",
    "\n",
    "import os\n",
    "\n",
    "# Get absolute path to the PDF using the correct base path\n",
    "base_path = \"/Users/robertford/Repos/fade\"  # Your project root\n",
    "pdf_path = os.path.join(base_path, \"data\", \"f1040.pdf\")\n",
    "print(f\"PDF path: {pdf_path}\")\n",
    "print(f\"File exists: {os.path.exists(pdf_path)}\")\n",
    "\n",
    "# Initialize a test state with absolute path\n",
    "initial_state = PipelineState(\n",
    "    document_id=pdf_path,  # Using absolute path\n",
    "    working_dir=\"\",\n",
    "    images=[],\n",
    "    entities={},\n",
    "    unclassified_entities={},\n",
    "    logs=[],\n",
    "    error=None\n",
    ")\n"
   ]
  },
  {
   "cell_type": "code",
   "execution_count": null,
   "metadata": {},
   "outputs": [],
   "source": [
    "# Test pipeline setup\n",
    "print(\"\\nTesting pipeline setup...\")\n",
    "state = setup_working_directory(initial_state)\n",
    "print(\"\\nSetup Working Directory Logs:\")\n",
    "for log in state.logs:\n",
    "    print(f\"- {log['message']}\")\n",
    "if state.error:\n",
    "    print(f\"Error: {state.error}\")"
   ]
  },
  {
   "cell_type": "code",
   "execution_count": null,
   "metadata": {},
   "outputs": [],
   "source": [
    "# Test document page extraction\n",
    "print(\"\\nTesting document page extraction...\")\n",
    "state = extract_document_pages(state)\n",
    "print(\"\\nExtract Document Pages Logs:\")\n",
    "for log in state.logs:\n",
    "    print(f\"- {log['message']}\")\n",
    "print(f\"\\nNumber of images extracted: {len(state.images)}\")\n",
    "if state.error:\n",
    "    print(f\"Error: {state.error}\")"
   ]
  },
  {
   "cell_type": "code",
   "execution_count": null,
   "metadata": {},
   "outputs": [],
   "source": [
    "# If we have images, proceed with entity detection\n",
    "if len(state.images) > 0:\n",
    "    print(\"\\nTesting entity detection...\")\n",
    "    state = detect_entities(state)\n",
    "    print(\"\\nDetect Entities Logs:\")\n",
    "    for log in state.logs:\n",
    "        print(f\"- {log['message']}\")\n",
    "    print(f\"\\nNumber of entities detected: {len(state.entities)}\")\n",
    "    if state.error:\n",
    "        print(f\"Error: {state.error}\")\n",
    "else:\n",
    "    print(\"\\nSkipping entity detection since no images were extracted.\")"
   ]
  },
  {
   "cell_type": "code",
   "execution_count": null,
   "metadata": {},
   "outputs": [],
   "source": [
    "# Test entity detection\n",
    "print(\"\\nTesting entity detection...\")\n",
    "state = detect_entities(state)\n",
    "print(\"\\nDetect Entities Logs:\")\n",
    "for log in state.logs:\n",
    "    print(f\"- {log['message']}\")\n",
    "print(f\"\\nNumber of entities detected: {len(state.entities)}\")\n"
   ]
  },
  {
   "cell_type": "code",
   "execution_count": null,
   "metadata": {},
   "outputs": [],
   "source": []
  }
 ],
 "metadata": {
  "kernelspec": {
   "display_name": ".venv",
   "language": "python",
   "name": "python3"
  },
  "language_info": {
   "codemirror_mode": {
    "name": "ipython",
    "version": 3
   },
   "file_extension": ".py",
   "mimetype": "text/x-python",
   "name": "python",
   "nbconvert_exporter": "python",
   "pygments_lexer": "ipython3",
   "version": "3.11.8"
  }
 },
 "nbformat": 4,
 "nbformat_minor": 2
}
